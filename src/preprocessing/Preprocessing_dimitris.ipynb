{
 "cells": [
  {
   "cell_type": "code",
   "execution_count": 1,
   "metadata": {},
   "outputs": [],
   "source": [
    "import pandas as pd\n",
    "import numpy as np"
   ]
  },
  {
   "cell_type": "code",
   "execution_count": 3,
   "metadata": {},
   "outputs": [
    {
     "name": "stderr",
     "output_type": "stream",
     "text": [
      "C:\\Users\\webma\\Anaconda3\\lib\\site-packages\\IPython\\core\\interactiveshell.py:3058: DtypeWarning: Columns (2,4,5,6,7,8,9,10,11,13,14,18,19,20,21,22,23,24,28,29,31) have mixed types. Specify dtype option on import or set low_memory=False.\n",
      "  interactivity=interactivity, compiler=compiler, result=result)\n"
     ]
    }
   ],
   "source": [
    "data = pd.read_csv('Dataset/output_article.csv', sep=';', header=None)"
   ]
  },
  {
   "cell_type": "code",
   "execution_count": 6,
   "metadata": {},
   "outputs": [],
   "source": [
    "header = pd.read_csv('Dataset/output_article_header.csv', sep=';')"
   ]
  },
  {
   "cell_type": "code",
   "execution_count": 10,
   "metadata": {},
   "outputs": [],
   "source": [
    "cols = [x[:x.find(':')] for x in header.columns]"
   ]
  },
  {
   "cell_type": "code",
   "execution_count": 11,
   "metadata": {},
   "outputs": [
    {
     "data": {
      "text/plain": [
       "['article',\n",
       " 'author',\n",
       " 'author-aux',\n",
       " 'author-orcid',\n",
       " 'booktitle',\n",
       " 'cdate',\n",
       " 'cdrom',\n",
       " 'cite',\n",
       " 'cite-label',\n",
       " 'crossref',\n",
       " 'editor',\n",
       " 'editor-orcid',\n",
       " 'ee',\n",
       " 'ee-type',\n",
       " 'i',\n",
       " 'journal',\n",
       " 'key',\n",
       " 'mdate',\n",
       " 'month',\n",
       " 'note',\n",
       " 'note-type',\n",
       " 'number',\n",
       " 'pages',\n",
       " 'publisher',\n",
       " 'publtype',\n",
       " 'sub',\n",
       " 'sup',\n",
       " 'title',\n",
       " 'title-bibtex',\n",
       " 'tt',\n",
       " 'url',\n",
       " 'volume',\n",
       " 'year']"
      ]
     },
     "execution_count": 11,
     "metadata": {},
     "output_type": "execute_result"
    }
   ],
   "source": [
    "cols"
   ]
  },
  {
   "cell_type": "code",
   "execution_count": 12,
   "metadata": {},
   "outputs": [],
   "source": [
    "data.columns = cols"
   ]
  },
  {
   "cell_type": "code",
   "execution_count": 13,
   "metadata": {},
   "outputs": [
    {
     "data": {
      "text/html": [
       "<div>\n",
       "<style scoped>\n",
       "    .dataframe tbody tr th:only-of-type {\n",
       "        vertical-align: middle;\n",
       "    }\n",
       "\n",
       "    .dataframe tbody tr th {\n",
       "        vertical-align: top;\n",
       "    }\n",
       "\n",
       "    .dataframe thead th {\n",
       "        text-align: right;\n",
       "    }\n",
       "</style>\n",
       "<table border=\"1\" class=\"dataframe\">\n",
       "  <thead>\n",
       "    <tr style=\"text-align: right;\">\n",
       "      <th></th>\n",
       "      <th>article</th>\n",
       "      <th>author</th>\n",
       "      <th>author-aux</th>\n",
       "      <th>author-orcid</th>\n",
       "      <th>booktitle</th>\n",
       "      <th>cdate</th>\n",
       "      <th>cdrom</th>\n",
       "      <th>cite</th>\n",
       "      <th>cite-label</th>\n",
       "      <th>crossref</th>\n",
       "      <th>...</th>\n",
       "      <th>publisher</th>\n",
       "      <th>publtype</th>\n",
       "      <th>sub</th>\n",
       "      <th>sup</th>\n",
       "      <th>title</th>\n",
       "      <th>title-bibtex</th>\n",
       "      <th>tt</th>\n",
       "      <th>url</th>\n",
       "      <th>volume</th>\n",
       "      <th>year</th>\n",
       "    </tr>\n",
       "  </thead>\n",
       "  <tbody>\n",
       "    <tr>\n",
       "      <td>0</td>\n",
       "      <td>91701</td>\n",
       "      <td>NaN</td>\n",
       "      <td>NaN</td>\n",
       "      <td>NaN</td>\n",
       "      <td>NaN</td>\n",
       "      <td>NaN</td>\n",
       "      <td>NaN</td>\n",
       "      <td>NaN</td>\n",
       "      <td>NaN</td>\n",
       "      <td>NaN</td>\n",
       "      <td>...</td>\n",
       "      <td>NaN</td>\n",
       "      <td>informal</td>\n",
       "      <td>NaN</td>\n",
       "      <td>NaN</td>\n",
       "      <td>(error)</td>\n",
       "      <td>NaN</td>\n",
       "      <td>NaN</td>\n",
       "      <td>NaN</td>\n",
       "      <td>NaN</td>\n",
       "      <td>NaN</td>\n",
       "    </tr>\n",
       "    <tr>\n",
       "      <td>1</td>\n",
       "      <td>91702</td>\n",
       "      <td>NaN</td>\n",
       "      <td>NaN</td>\n",
       "      <td>NaN</td>\n",
       "      <td>NaN</td>\n",
       "      <td>NaN</td>\n",
       "      <td>NaN</td>\n",
       "      <td>NaN</td>\n",
       "      <td>NaN</td>\n",
       "      <td>NaN</td>\n",
       "      <td>...</td>\n",
       "      <td>NaN</td>\n",
       "      <td>informal</td>\n",
       "      <td>NaN</td>\n",
       "      <td>NaN</td>\n",
       "      <td>(was never published)</td>\n",
       "      <td>NaN</td>\n",
       "      <td>NaN</td>\n",
       "      <td>NaN</td>\n",
       "      <td>NaN</td>\n",
       "      <td>NaN</td>\n",
       "    </tr>\n",
       "    <tr>\n",
       "      <td>2</td>\n",
       "      <td>91703</td>\n",
       "      <td>NaN</td>\n",
       "      <td>NaN</td>\n",
       "      <td>NaN</td>\n",
       "      <td>NaN</td>\n",
       "      <td>NaN</td>\n",
       "      <td>NaN</td>\n",
       "      <td>NaN</td>\n",
       "      <td>NaN</td>\n",
       "      <td>NaN</td>\n",
       "      <td>...</td>\n",
       "      <td>NaN</td>\n",
       "      <td>informal</td>\n",
       "      <td>NaN</td>\n",
       "      <td>NaN</td>\n",
       "      <td>…</td>\n",
       "      <td>NaN</td>\n",
       "      <td>NaN</td>\n",
       "      <td>NaN</td>\n",
       "      <td>NaN</td>\n",
       "      <td>NaN</td>\n",
       "    </tr>\n",
       "    <tr>\n",
       "      <td>3</td>\n",
       "      <td>2480033</td>\n",
       "      <td>Frank Manola</td>\n",
       "      <td>NaN</td>\n",
       "      <td>NaN</td>\n",
       "      <td>NaN</td>\n",
       "      <td>NaN</td>\n",
       "      <td>NaN</td>\n",
       "      <td>NaN</td>\n",
       "      <td>NaN</td>\n",
       "      <td>NaN</td>\n",
       "      <td>...</td>\n",
       "      <td>NaN</td>\n",
       "      <td>informal</td>\n",
       "      <td>NaN</td>\n",
       "      <td>NaN</td>\n",
       "      <td>Object Data Language Facilities for Multimedia...</td>\n",
       "      <td>NaN</td>\n",
       "      <td>NaN</td>\n",
       "      <td>db/journals/gtelab/index.html#TR-0169-12-91-165</td>\n",
       "      <td>TR-0169-12-91-165</td>\n",
       "      <td>1991.0</td>\n",
       "    </tr>\n",
       "    <tr>\n",
       "      <td>4</td>\n",
       "      <td>2480034</td>\n",
       "      <td>Alejandro P. Buchmann|Frank Manola|Mark F. Hor...</td>\n",
       "      <td>NaN</td>\n",
       "      <td>NaN</td>\n",
       "      <td>NaN</td>\n",
       "      <td>NaN</td>\n",
       "      <td>NaN</td>\n",
       "      <td>NaN</td>\n",
       "      <td>NaN</td>\n",
       "      <td>NaN</td>\n",
       "      <td>...</td>\n",
       "      <td>NaN</td>\n",
       "      <td>informal</td>\n",
       "      <td>NaN</td>\n",
       "      <td>NaN</td>\n",
       "      <td>Object Data Model Facilities for Multimedia Da...</td>\n",
       "      <td>NaN</td>\n",
       "      <td>NaN</td>\n",
       "      <td>db/journals/gtelab/index.html#TM-0332-11-90-165</td>\n",
       "      <td>TM-0332-11-90-165</td>\n",
       "      <td>1990.0</td>\n",
       "    </tr>\n",
       "  </tbody>\n",
       "</table>\n",
       "<p>5 rows × 33 columns</p>\n",
       "</div>"
      ],
      "text/plain": [
       "   article                                             author author-aux  \\\n",
       "0    91701                                                NaN        NaN   \n",
       "1    91702                                                NaN        NaN   \n",
       "2    91703                                                NaN        NaN   \n",
       "3  2480033                                       Frank Manola        NaN   \n",
       "4  2480034  Alejandro P. Buchmann|Frank Manola|Mark F. Hor...        NaN   \n",
       "\n",
       "  author-orcid booktitle cdate cdrom cite cite-label crossref  ... publisher  \\\n",
       "0          NaN       NaN   NaN   NaN  NaN        NaN      NaN  ...       NaN   \n",
       "1          NaN       NaN   NaN   NaN  NaN        NaN      NaN  ...       NaN   \n",
       "2          NaN       NaN   NaN   NaN  NaN        NaN      NaN  ...       NaN   \n",
       "3          NaN       NaN   NaN   NaN  NaN        NaN      NaN  ...       NaN   \n",
       "4          NaN       NaN   NaN   NaN  NaN        NaN      NaN  ...       NaN   \n",
       "\n",
       "   publtype  sub  sup                                              title  \\\n",
       "0  informal  NaN  NaN                                            (error)   \n",
       "1  informal  NaN  NaN                              (was never published)   \n",
       "2  informal  NaN  NaN                                                  …   \n",
       "3  informal  NaN  NaN  Object Data Language Facilities for Multimedia...   \n",
       "4  informal  NaN  NaN  Object Data Model Facilities for Multimedia Da...   \n",
       "\n",
       "  title-bibtex   tt                                              url  \\\n",
       "0          NaN  NaN                                              NaN   \n",
       "1          NaN  NaN                                              NaN   \n",
       "2          NaN  NaN                                              NaN   \n",
       "3          NaN  NaN  db/journals/gtelab/index.html#TR-0169-12-91-165   \n",
       "4          NaN  NaN  db/journals/gtelab/index.html#TM-0332-11-90-165   \n",
       "\n",
       "              volume    year  \n",
       "0                NaN     NaN  \n",
       "1                NaN     NaN  \n",
       "2                NaN     NaN  \n",
       "3  TR-0169-12-91-165  1991.0  \n",
       "4  TM-0332-11-90-165  1990.0  \n",
       "\n",
       "[5 rows x 33 columns]"
      ]
     },
     "execution_count": 13,
     "metadata": {},
     "output_type": "execute_result"
    }
   ],
   "source": [
    "data.head()"
   ]
  },
  {
   "cell_type": "code",
   "execution_count": 18,
   "metadata": {},
   "outputs": [
    {
     "data": {
      "text/html": [
       "<div>\n",
       "<style scoped>\n",
       "    .dataframe tbody tr th:only-of-type {\n",
       "        vertical-align: middle;\n",
       "    }\n",
       "\n",
       "    .dataframe tbody tr th {\n",
       "        vertical-align: top;\n",
       "    }\n",
       "\n",
       "    .dataframe thead th {\n",
       "        text-align: right;\n",
       "    }\n",
       "</style>\n",
       "<table border=\"1\" class=\"dataframe\">\n",
       "  <thead>\n",
       "    <tr style=\"text-align: right;\">\n",
       "      <th></th>\n",
       "      <th>journal</th>\n",
       "      <th>volume</th>\n",
       "    </tr>\n",
       "  </thead>\n",
       "  <tbody>\n",
       "    <tr>\n",
       "      <td>3</td>\n",
       "      <td>GTE Laboratories Incorporated</td>\n",
       "      <td>TR-0169-12-91-165</td>\n",
       "    </tr>\n",
       "    <tr>\n",
       "      <td>4</td>\n",
       "      <td>GTE Laboratories Incorporated</td>\n",
       "      <td>TM-0332-11-90-165</td>\n",
       "    </tr>\n",
       "    <tr>\n",
       "      <td>5</td>\n",
       "      <td>GTE Laboratories Incorporated</td>\n",
       "      <td>TR-0263-08-94-165</td>\n",
       "    </tr>\n",
       "    <tr>\n",
       "      <td>6</td>\n",
       "      <td>GTE Laboratories Incorporated</td>\n",
       "      <td>TR-0174-12-91-165</td>\n",
       "    </tr>\n",
       "    <tr>\n",
       "      <td>7</td>\n",
       "      <td>GTE Laboratories Incorporated</td>\n",
       "      <td>TM-0149-06-89-165</td>\n",
       "    </tr>\n",
       "  </tbody>\n",
       "</table>\n",
       "</div>"
      ],
      "text/plain": [
       "                         journal             volume\n",
       "3  GTE Laboratories Incorporated  TR-0169-12-91-165\n",
       "4  GTE Laboratories Incorporated  TM-0332-11-90-165\n",
       "5  GTE Laboratories Incorporated  TR-0263-08-94-165\n",
       "6  GTE Laboratories Incorporated  TR-0174-12-91-165\n",
       "7  GTE Laboratories Incorporated  TM-0149-06-89-165"
      ]
     },
     "execution_count": 18,
     "metadata": {},
     "output_type": "execute_result"
    }
   ],
   "source": [
    "journal_volume = data[['journal','volume']]\n",
    "journal_volume = journal_volume.dropna()\n",
    "journal_volume.head()"
   ]
  },
  {
   "cell_type": "code",
   "execution_count": 24,
   "metadata": {},
   "outputs": [],
   "source": [
    "import sys\n",
    "np.set_printoptions(threshold=sys.maxsize)\n",
    "\n",
    "arr=journal_volume['journal'].unique()"
   ]
  },
  {
   "cell_type": "code",
   "execution_count": 26,
   "metadata": {},
   "outputs": [],
   "source": [
    "with open('journal.csv', 'a') as the_file:\n",
    "    for j in arr:\n",
    "        the_file.write(j+'\\n')"
   ]
  },
  {
   "cell_type": "code",
   "execution_count": 30,
   "metadata": {},
   "outputs": [
    {
     "name": "stdout",
     "output_type": "stream",
     "text": [
      "3          TR-0169-12-91-165\n",
      "4          TM-0332-11-90-165\n",
      "5          TR-0263-08-94-165\n",
      "6          TR-0174-12-91-165\n",
      "7          TM-0149-06-89-165\n",
      "                 ...        \n",
      "2137506                RJ909\n",
      "2137507               RJ1400\n",
      "2137509                   15\n",
      "2137510                RJ987\n",
      "2137511                   16\n",
      "Name: volume, Length: 2136801, dtype: object\n"
     ]
    }
   ],
   "source": [
    "arr2 = journal_volume['volume']\n",
    "arr3 = journal_volume['volume'].unique()\n",
    "print(arr2)"
   ]
  },
  {
   "cell_type": "code",
   "execution_count": 33,
   "metadata": {},
   "outputs": [
    {
     "name": "stdout",
     "output_type": "stream",
     "text": [
      "245131\n",
      "2136801\n"
     ]
    }
   ],
   "source": [
    "print(len(arr3))\n",
    "print(len(arr2))"
   ]
  },
  {
   "cell_type": "code",
   "execution_count": null,
   "metadata": {},
   "outputs": [],
   "source": []
  }
 ],
 "metadata": {
  "kernelspec": {
   "display_name": "Python 3",
   "language": "python",
   "name": "python3"
  },
  "language_info": {
   "codemirror_mode": {
    "name": "ipython",
    "version": 3
   },
   "file_extension": ".py",
   "mimetype": "text/x-python",
   "name": "python",
   "nbconvert_exporter": "python",
   "pygments_lexer": "ipython3",
   "version": "3.7.4"
  }
 },
 "nbformat": 4,
 "nbformat_minor": 2
}
