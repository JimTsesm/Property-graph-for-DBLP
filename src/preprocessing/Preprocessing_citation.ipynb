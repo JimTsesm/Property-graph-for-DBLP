{
 "cells": [
  {
   "cell_type": "code",
   "execution_count": 8,
   "metadata": {},
   "outputs": [],
   "source": [
    "import pandas as pd\n",
    "import numpy as np\n",
    "\n",
    "PAPER_EDITION_CITES_TO_GENERATE = 40000\n",
    "PAPER_VOLUME_CITES_TO_GENERATE = 5000\n",
    "\n",
    "# Generate random citation for Paper of Edition and Journals\n",
    "\n",
    "FILE_PATH = 'C:/Users/Alex/Desktop/Jim Profile/Studies/BDMA/Courses/Semantic Data Management/lab1/dataset/dblp-2019-11-01-csv/'\n",
    "papers = pd.read_csv(FILE_PATH+'Paper(Edition).csv', sep=',', header=None, error_bad_lines=False, skiprows=1)\n",
    "papers.columns = ['id','key','paper_name','crossref','title','year']\n",
    "papers = papers[['key']]\n",
    "random_paper = papers.sample(n=PAPER_EDITION_CITES_TO_GENERATE, replace=True)\n",
    "\n",
    "random_paper['New_ID'] = \"\"\n",
    "random_paper = random_paper.reset_index()\n",
    "random_paper['New_ID'] = random_paper.index + 0\n",
    "del random_paper['index']\n",
    "\n",
    "papers2 = pd.read_csv(FILE_PATH+'paper(volume).csv', sep=',', header=None, error_bad_lines=False, skiprows=1)\n",
    "papers2.columns = ['key','title','year','crossref']\n",
    "papers2 = papers2[['key']]\n",
    "random_paper2 = papers2.sample(n=PAPER_VOLUME_CITES_TO_GENERATE, replace=True)\n",
    "\n",
    "random_paper2['New_ID'] = \"\"\n",
    "random_paper2 = random_paper2.reset_index()\n",
    "random_paper2['New_ID'] = random_paper2.index + PAPER_EDITION_CITES_TO_GENERATE\n",
    "del random_paper2['index']\n",
    "\n",
    "# write to file\n",
    "pd.concat([random_paper, random_paper2], axis=0).to_csv(r'C:\\Users\\Alex\\Desktop\\Jim Profile\\Studies\\BDMA\\Courses\\Semantic Data Management\\lab1\\dataset\\dblp-2019-11-01-csv\\Cite.csv', index=False)\n",
    "\n"
   ]
  },
  {
   "cell_type": "code",
   "execution_count": null,
   "metadata": {},
   "outputs": [],
   "source": []
  },
  {
   "cell_type": "code",
   "execution_count": null,
   "metadata": {},
   "outputs": [],
   "source": []
  }
 ],
 "metadata": {
  "kernelspec": {
   "display_name": "Python 3",
   "language": "python",
   "name": "python3"
  },
  "language_info": {
   "codemirror_mode": {
    "name": "ipython",
    "version": 3
   },
   "file_extension": ".py",
   "mimetype": "text/x-python",
   "name": "python",
   "nbconvert_exporter": "python",
   "pygments_lexer": "ipython3",
   "version": "3.7.4"
  }
 },
 "nbformat": 4,
 "nbformat_minor": 2
}
