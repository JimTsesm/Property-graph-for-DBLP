{
 "cells": [
  {
   "cell_type": "code",
   "execution_count": 42,
   "metadata": {},
   "outputs": [
    {
     "name": "stderr",
     "output_type": "stream",
     "text": [
      "C:\\Users\\Alex\\Anaconda3\\lib\\site-packages\\ipykernel_launcher.py:14: SettingWithCopyWarning: \n",
      "A value is trying to be set on a copy of a slice from a DataFrame\n",
      "\n",
      "See the caveats in the documentation: http://pandas.pydata.org/pandas-docs/stable/user_guide/indexing.html#returning-a-view-versus-a-copy\n",
      "  \n"
     ]
    }
   ],
   "source": [
    "import pandas as pd\n",
    "import numpy as np\n",
    "\n",
    "INPROCEEDING_TO_KEEP = 1900\n",
    "FILE_PATH = 'C:/Users/Alex/Desktop/Jim Profile/Studies/BDMA/Courses/Semantic Data Management/lab1/dataset/dblp-2019-11-01-csv/'\n",
    "\n",
    "inproceedings = pd.read_csv(FILE_PATH+'output_inproceedings_first4k.csv', sep=';', header=None, error_bad_lines=False)\n",
    "inproceedings_header = pd.read_csv(FILE_PATH+'output_inproceedings_header.csv', sep=';')\n",
    "inproceedings_cols = [x[:x.find(':')] for x in inproceedings_header.columns]\n",
    "inproceedings.columns = inproceedings_cols\n",
    "\n",
    "# inproceedings_new includes only conferences\n",
    "inproceedings_new = inproceedings[inproceedings.key.str.contains('conf/',case=False)]\n",
    "inproceedings_new.dropna(subset = [\"crossref\"], inplace=True)\n",
    "#inproceedings_new[\"booktitle\"].unique()\n",
    "\n",
    "inproceedings_new = inproceedings_new[['key','booktitle','author','crossref','title','year']]\n",
    "\n",
    "# keep first N\n",
    "inproceedings_new = inproceedings_new.head(INPROCEEDING_TO_KEEP)\n",
    "\n",
    "# create the Papers related to Editions\n",
    "papers = inproceedings_new[['key','booktitle','crossref','title','year']]\n",
    "\n",
    "# remove conf/ from key and crossref\n",
    "papers['key'].replace(regex=True,inplace=True,to_replace=r'conf/',value=r'')\n",
    "papers['crossref'].replace(regex=True,inplace=True,to_replace=r'conf/',value=r'')\n",
    "\n",
    "# write to file\n",
    "papers.to_csv(r'C:\\Users\\Alex\\Desktop\\Jim Profile\\Studies\\BDMA\\Courses\\Semantic Data Management\\lab1\\dataset\\dblp-2019-11-01-csv\\Paper(Edition).csv')\n",
    "\n",
    "# create papers' authors\n",
    "authors = inproceedings_new[['key','author']]\n",
    "# remove conf/ from key and crossref\n",
    "authors['key'].replace(regex=True,inplace=True,to_replace=r'conf/',value=r'')\n",
    "# for paper that have many authors, generate 1 line per author\n",
    "new_authors = pd.DataFrame(authors.author.str.split('|').tolist(), index=authors.key).stack()\n",
    "new_authors = new_authors.reset_index([0, 'key'])\n",
    "new_authors.columns = ['key', 'author']\n",
    "# write to file\n",
    "new_authors.to_csv(r'C:\\Users\\Alex\\Desktop\\Jim Profile\\Studies\\BDMA\\Courses\\Semantic Data Management\\lab1\\dataset\\dblp-2019-11-01-csv\\Author(Edition_Paper).csv')"
   ]
  },
  {
   "cell_type": "code",
   "execution_count": null,
   "metadata": {},
   "outputs": [],
   "source": []
  }
 ],
 "metadata": {
  "kernelspec": {
   "display_name": "Python 3",
   "language": "python",
   "name": "python3"
  },
  "language_info": {
   "codemirror_mode": {
    "name": "ipython",
    "version": 3
   },
   "file_extension": ".py",
   "mimetype": "text/x-python",
   "name": "python",
   "nbconvert_exporter": "python",
   "pygments_lexer": "ipython3",
   "version": "3.7.4"
  }
 },
 "nbformat": 4,
 "nbformat_minor": 2
}
