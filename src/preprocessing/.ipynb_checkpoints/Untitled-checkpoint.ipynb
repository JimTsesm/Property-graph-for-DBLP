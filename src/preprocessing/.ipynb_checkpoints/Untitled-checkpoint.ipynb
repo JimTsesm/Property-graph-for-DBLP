{
 "cells": [
  {
   "cell_type": "code",
   "execution_count": 12,
   "metadata": {},
   "outputs": [
    {
     "name": "stdout",
     "output_type": "stream",
     "text": [
      "keyword3\n"
     ]
    }
   ],
   "source": [
    "import pandas as pd\n",
    "import numpy as np\n",
    "import random\n",
    "\n",
    "\n",
    "# Generate random Keywords for Paper of Edition\n",
    "\n",
    "FILE_PATH = 'C:/Users/Alex/Desktop/Jim Profile/Studies/BDMA/Courses/Semantic Data Management/lab1/dataset/dblp-2019-11-01-csv/'\n",
    "papers = pd.read_csv(FILE_PATH+'Paper(Edition).csv', sep=',', header=None, error_bad_lines=False, skiprows=1)\n",
    "papers.columns = ['id','key','paper_name','crossref','title','year']\n",
    "papers = papers[['key']]\n",
    "\n",
    "keywords = [\"data management\", \"indexing\", \"data modeling\", \"big data\", \"data processing\", \"data storage\", \"data querying\", \"computer vision\", \"keyword1\", \"keyword2\", \"keyword3\", \"keyword4\"]\n",
    "print(random.choice(keywords))\n",
    "\n",
    "keyword_column = []\n",
    "keyword_column2 = []\n",
    "keyword_column3 = []\n",
    "for i in range (0, len(papers)):\n",
    "    keyword_column.append(random.choice(keywords))\n",
    "    keyword_column2.append(random.choice(keywords))\n",
    "    keyword_column3.append(random.choice(keywords))\n",
    "\n",
    "papers['keyword1'] = keyword_column\n",
    "papers['keyword2'] = keyword_column2\n",
    "papers['keyword3'] = keyword_column3\n",
    "papers.to_csv(r'C:\\Users\\Alex\\Desktop\\Jim Profile\\Studies\\BDMA\\Courses\\Semantic Data Management\\lab1\\dataset\\dblp-2019-11-01-csv\\Keyword.csv', index=False)\n"
   ]
  },
  {
   "cell_type": "code",
   "execution_count": null,
   "metadata": {},
   "outputs": [],
   "source": []
  }
 ],
 "metadata": {
  "kernelspec": {
   "display_name": "Python 3",
   "language": "python",
   "name": "python3"
  },
  "language_info": {
   "codemirror_mode": {
    "name": "ipython",
    "version": 3
   },
   "file_extension": ".py",
   "mimetype": "text/x-python",
   "name": "python",
   "nbconvert_exporter": "python",
   "pygments_lexer": "ipython3",
   "version": "3.7.4"
  }
 },
 "nbformat": 4,
 "nbformat_minor": 2
}
