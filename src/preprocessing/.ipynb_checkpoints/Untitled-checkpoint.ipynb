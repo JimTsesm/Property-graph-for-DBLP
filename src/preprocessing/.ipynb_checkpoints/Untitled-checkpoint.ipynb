{
 "cells": [
  {
   "cell_type": "code",
   "execution_count": 31,
   "metadata": {},
   "outputs": [],
   "source": [
    "import pandas as pd\n",
    "import numpy as np\n",
    "\n",
    "CITES_TO_GENERATE = 20000\n",
    "FILE_PATH = 'C:/Users/Alex/Desktop/Jim Profile/Studies/BDMA/Courses/Semantic Data Management/lab1/dataset/dblp-2019-11-01-csv/'\n",
    "papers = pd.read_csv(FILE_PATH+'Paper(Edition).csv', sep=',', header=None, error_bad_lines=False, skiprows=1)\n",
    "papers.columns = ['id','key','paper_name','crossref','title','year']\n",
    "papers = papers[['key']]\n",
    "random_paper = papers.sample(n=CITES_TO_GENERATE, replace=True)\n",
    "\n",
    "random_paper['New_ID'] = \"\"\n",
    "random_paper = random_paper.reset_index()\n",
    "random_paper['New_ID'] = random_paper.index + 0\n",
    "del random_paper['index']\n",
    "# write to file\n",
    "random_paper.to_csv(r'C:\\Users\\Alex\\Desktop\\Jim Profile\\Studies\\BDMA\\Courses\\Semantic Data Management\\lab1\\dataset\\dblp-2019-11-01-csv\\Cite.csv', index=False)\n",
    "\n"
   ]
  },
  {
   "cell_type": "code",
   "execution_count": null,
   "metadata": {},
   "outputs": [],
   "source": []
  },
  {
   "cell_type": "code",
   "execution_count": null,
   "metadata": {},
   "outputs": [],
   "source": []
  }
 ],
 "metadata": {
  "kernelspec": {
   "display_name": "Python 3",
   "language": "python",
   "name": "python3"
  },
  "language_info": {
   "codemirror_mode": {
    "name": "ipython",
    "version": 3
   },
   "file_extension": ".py",
   "mimetype": "text/x-python",
   "name": "python",
   "nbconvert_exporter": "python",
   "pygments_lexer": "ipython3",
   "version": "3.7.4"
  }
 },
 "nbformat": 4,
 "nbformat_minor": 2
}
