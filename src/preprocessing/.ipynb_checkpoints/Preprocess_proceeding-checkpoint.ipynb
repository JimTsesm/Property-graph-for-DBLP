{
 "cells": [
  {
   "cell_type": "code",
   "execution_count": 2,
   "metadata": {},
   "outputs": [
    {
     "name": "stderr",
     "output_type": "stream",
     "text": [
      "C:\\Users\\Alex\\Anaconda3\\lib\\site-packages\\ipykernel_launcher.py:14: SettingWithCopyWarning: \n",
      "A value is trying to be set on a copy of a slice from a DataFrame\n",
      "\n",
      "See the caveats in the documentation: http://pandas.pydata.org/pandas-docs/stable/user_guide/indexing.html#returning-a-view-versus-a-copy\n",
      "  \n",
      "C:\\Users\\Alex\\Anaconda3\\lib\\site-packages\\ipykernel_launcher.py:16: SettingWithCopyWarning: \n",
      "A value is trying to be set on a copy of a slice from a DataFrame.\n",
      "Try using .loc[row_indexer,col_indexer] = value instead\n",
      "\n",
      "See the caveats in the documentation: http://pandas.pydata.org/pandas-docs/stable/user_guide/indexing.html#returning-a-view-versus-a-copy\n",
      "  app.launch_new_instance()\n"
     ]
    }
   ],
   "source": [
    "import pandas as pd\n",
    "import numpy as np\n",
    "\n",
    "PROCEEDINGS_TO_KEEP = 10000\n",
    "FILE_PATH = 'C:/Users/Alex/Desktop/Jim Profile/Studies/BDMA/Courses/Semantic Data Management/lab1/dataset/dblp-2019-11-01-csv/'\n",
    "\n",
    "proceedings = pd.read_csv(FILE_PATH+'output_proceedings.csv', sep=';', header=None)\n",
    "proceedings_header = pd.read_csv(FILE_PATH+'output_proceedings_header.csv', sep=';')\n",
    "proceedings_cols = [x[:x.find(':')] for x in proceedings_header.columns]\n",
    "proceedings.columns = proceedings_cols\n",
    "\n",
    "# proceedings_new includes only conferences\n",
    "proceedings_new = proceedings[proceedings.key.str.contains('conf/',case=False)]\n",
    "proceedings_new.dropna(subset = [\"booktitle\"], inplace=True)\n",
    "proceedings_new[\"booktitle\"].unique()\n",
    "proceedings_new[\"booktitle\"] = proceedings_new[\"booktitle\"].str.replace('\\\"','')\n",
    "\n",
    "proceedings_new = proceedings_new[['key','booktitle','isbn','mdate','publisher','title','year']]\n",
    "\n",
    "# keep first N\n",
    "proceedings_new = proceedings_new.head(PROCEEDINGS_TO_KEEP)\n",
    "\n",
    "# remove conf/ from key\n",
    "proceedings_new['key'].replace(regex=True,inplace=True,to_replace=r'conf/',value=r'')\n",
    "\n",
    "# write to file\n",
    "# proceedings_new.to_csv(r'C:\\Users\\Alex\\Desktop\\Jim Profile\\Studies\\BDMA\\Courses\\Semantic Data Management\\lab1\\dataset\\dblp-2019-11-01-csv\\Proceedings.csv')\n",
    "\n",
    "# create editions\n",
    "editions = proceedings_new[['key','booktitle','year']]\n",
    "editions.year = editions.key.str.split('/').str[1]\n",
    "\n",
    "# write to file\n",
    "editions.to_csv(r'C:\\Users\\Alex\\Desktop\\Jim Profile\\Studies\\BDMA\\Courses\\Semantic Data Management\\lab1\\dataset\\dblp-2019-11-01-csv\\Edition.csv')\n",
    "\n",
    "# create conferences\n",
    "conferences = proceedings_new['booktitle'].unique()\n",
    "with open(FILE_PATH+'Conferences.csv', 'a') as the_file:\n",
    "    for j in conferences:\n",
    "        the_file.write(j+'\\n')\n"
   ]
  },
  {
   "cell_type": "code",
   "execution_count": null,
   "metadata": {},
   "outputs": [],
   "source": []
  }
 ],
 "metadata": {
  "kernelspec": {
   "display_name": "Python 3",
   "language": "python",
   "name": "python3"
  },
  "language_info": {
   "codemirror_mode": {
    "name": "ipython",
    "version": 3
   },
   "file_extension": ".py",
   "mimetype": "text/x-python",
   "name": "python",
   "nbconvert_exporter": "python",
   "pygments_lexer": "ipython3",
   "version": "3.7.4"
  }
 },
 "nbformat": 4,
 "nbformat_minor": 2
}
